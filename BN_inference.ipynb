{
 "cells": [
  {
   "cell_type": "code",
   "execution_count": 1,
   "id": "bc7cb1f0",
   "metadata": {},
   "outputs": [],
   "source": [
    "def split_T_F(string):\n",
    "    return string+':True',string+':False'\n",
    "\n",
    "def mapping_node_2(node_1,node_2):\n",
    "    result_list=[]\n",
    "    for item1 in split_T_F(node_1):\n",
    "        for item2 in split_T_F(node_2):\n",
    "                result_list.append((item1,item2))\n",
    "    return result_list\n",
    "\n",
    "def mapping_node_3(node_1,node_2,node_3):\n",
    "    result_list=[]\n",
    "    for item1 in split_T_F(node_1):\n",
    "        for item2 in split_T_F(node_2):\n",
    "            for item3 in split_T_F(node_3):\n",
    "                result_list.append((item1,item2,item3))\n",
    "    return result_list\n",
    "\n",
    "def mapping_node_4(node_1,node_2,node_3,node_4):\n",
    "    result_list=[]\n",
    "    for item1 in split_T_F(node_1):\n",
    "        for item2 in split_T_F(node_2):\n",
    "            for item3 in split_T_F(node_3):\n",
    "                for item4 in split_T_F(node_4):\n",
    "                    result_list.append((item1,item2,item3,item4))\n",
    "    return result_list"
   ]
  },
  {
   "cell_type": "code",
   "execution_count": 2,
   "id": "48071fab",
   "metadata": {},
   "outputs": [],
   "source": [
    "P0='动力端故障'\n",
    "P1='轴承故障'\n",
    "#P2='连杆故障'\n",
    "P3='十字头故障'\n",
    "#P4=''\n",
    "P5='齿轮故障'\n",
    "P8='轴承游隙过大'\n",
    "P9='滚道面不光滑'\n",
    "P16='十字头有拉痕或磨损'\n",
    "P17='导板磨损'\n",
    "P19='齿轮断裂'\n",
    "P23='齿面变形'\n"
   ]
  },
  {
   "cell_type": "code",
   "execution_count": 3,
   "id": "def8b4c3",
   "metadata": {},
   "outputs": [],
   "source": [
    "P8_P9_P1=mapping_node_3(P8,P9,P1)\n",
    "P16_P17_P3=mapping_node_3(P16,P17,P3)\n",
    "P19_P23_P5=mapping_node_3(P19,P23,P5)\n",
    "P1_P3_P5_P0=mapping_node_4(P1,P3,P5,P0)"
   ]
  },
  {
   "cell_type": "code",
   "execution_count": 5,
   "id": "c9c44c6d",
   "metadata": {},
   "outputs": [],
   "source": [
    "X0='液力端故障'\n",
    "X1='吸入管道密封不严'\n",
    "X2='吸入滤网堵死'\n",
    "X3='阀磨损严重'\n",
    "X4='导向套卡死'\n",
    "#X5='液缸进空气'\n",
    "#X6='缸盖未上紧'\n",
    "X7='空气包内囊破裂'\n",
    "X8='吸入管故障'\n",
    "X9='阀故障'\n",
    "#X10='液缸故障'\n",
    "X11='空气包故障'\n",
    "X1_X2_X8=mapping_node_3(X1,X2,X8)\n",
    "X3_X4_X9=mapping_node_3(X3,X4,X9)\n",
    "X7_X11=mapping_node_2(X7,X11)\n",
    "#X8_P9_X0=mapping_node_3(X8,X9,X0)\n",
    "X8_P9_X0=mapping_node_4(X8,X9,X11,X0)"
   ]
  },
  {
   "cell_type": "code",
   "execution_count": 6,
   "id": "c57a8a4c",
   "metadata": {},
   "outputs": [],
   "source": [
    "#########构建dictionary\n",
    "event_dict={}\n",
    "idx=0\n",
    "for item in split_T_F(P8)+split_T_F(P9)+split_T_F(P16)+split_T_F(P17)+split_T_F(P19)+split_T_F(P23):\n",
    "    if item not in event_dict:\n",
    "        event_dict[item]=idx\n",
    "        idx+=1\n",
    "for item in P8_P9_P1+P16_P17_P3+P19_P23_P5+P1_P3_P5_P0:\n",
    "    if item not in event_dict:\n",
    "        event_dict[item]=idx\n",
    "        idx+=1\n",
    "for item in split_T_F(X1)+split_T_F(X2)+split_T_F(X3)+split_T_F(X4)+split_T_F(X7):\n",
    "    if item not in event_dict:\n",
    "        event_dict[item]=idx\n",
    "        idx+=1\n",
    "for item in X1_X2_X8+X3_X4_X9+X7_X11+X8_P9_X0:\n",
    "    if item not in event_dict:\n",
    "        event_dict[item]=idx\n",
    "        idx+=1\n",
    "        "
   ]
  },
  {
   "cell_type": "code",
   "execution_count": 7,
   "id": "d1578f24",
   "metadata": {},
   "outputs": [],
   "source": [
    "#########构建 edge_list\n",
    "#event_dict\n",
    "def find_node(node,dic):\n",
    "    node_list=[]\n",
    "    for item in dic.keys():\n",
    "        if str(node) in str(item):\n",
    "            node_list.append(event_dict[item])\n",
    "    return node_list\n",
    "        \n",
    "###############动力端    \n",
    "edge_list=[]\n",
    "for item in split_T_F(P8):\n",
    "    origin_node=event_dict[item]\n",
    "    node_list=find_node(item,event_dict)\n",
    "    node_list.remove(origin_node)\n",
    "    for item2 in node_list:\n",
    "        edge_list.append((origin_node,item2))\n",
    "        \n",
    "for item in split_T_F(P9):\n",
    "    origin_node=event_dict[item]\n",
    "    node_list=find_node(item,event_dict)\n",
    "    node_list.remove(origin_node)\n",
    "    for item2 in node_list:\n",
    "        edge_list.append((origin_node,item2))\n",
    "        \n",
    "for item in split_T_F(P16):\n",
    "    origin_node=event_dict[item]\n",
    "    node_list=find_node(item,event_dict)\n",
    "    node_list.remove(origin_node)\n",
    "    for item2 in node_list:\n",
    "        edge_list.append((origin_node,item2))\n",
    "        \n",
    "for item in split_T_F(P17):\n",
    "    origin_node=event_dict[item]\n",
    "    node_list=find_node(item,event_dict)\n",
    "    node_list.remove(origin_node)\n",
    "    for item2 in node_list:\n",
    "        edge_list.append((origin_node,item2))\n",
    "        \n",
    "for item in split_T_F(P19):\n",
    "    origin_node=event_dict[item]\n",
    "    node_list=find_node(item,event_dict)\n",
    "    node_list.remove(origin_node)\n",
    "    for item2 in node_list:\n",
    "        edge_list.append((origin_node,item2))\n",
    "        \n",
    "for item in split_T_F(P23):\n",
    "    origin_node=event_dict[item]\n",
    "    node_list=find_node(item,event_dict)\n",
    "    node_list.remove(origin_node)\n",
    "    for item2 in node_list:\n",
    "        edge_list.append((origin_node,item2))\n",
    "\n",
    "###############液力端\n",
    "for item in split_T_F(X1):\n",
    "    origin_node=event_dict[item]\n",
    "    node_list=find_node(item,event_dict)\n",
    "    node_list.remove(origin_node)\n",
    "    for item2 in node_list:\n",
    "        edge_list.append((origin_node,item2))\n",
    "        \n",
    "for item in split_T_F(X2):\n",
    "    origin_node=event_dict[item]\n",
    "    node_list=find_node(item,event_dict)\n",
    "    node_list.remove(origin_node)\n",
    "    for item2 in node_list:\n",
    "        edge_list.append((origin_node,item2))\n",
    "        \n",
    "for item in split_T_F(X3):\n",
    "    origin_node=event_dict[item]\n",
    "    node_list=find_node(item,event_dict)\n",
    "    node_list.remove(origin_node)\n",
    "    for item2 in node_list:\n",
    "        edge_list.append((origin_node,item2))\n",
    "        \n",
    "for item in split_T_F(X4):\n",
    "    origin_node=event_dict[item]\n",
    "    node_list=find_node(item,event_dict)\n",
    "    node_list.remove(origin_node)\n",
    "    for item2 in node_list:\n",
    "        edge_list.append((origin_node,item2))\n",
    "        \n",
    "for item in split_T_F(X7):\n",
    "    origin_node=event_dict[item]\n",
    "    node_list=find_node(item,event_dict)\n",
    "    node_list.remove(origin_node)\n",
    "    for item2 in node_list:\n",
    "        edge_list.append((origin_node,item2))"
   ]
  },
  {
   "cell_type": "code",
   "execution_count": 8,
   "id": "f5a9a53b",
   "metadata": {},
   "outputs": [],
   "source": [
    "def get_key (dic, value):\n",
    "    return [k for k, v in dic.items() if v == value]\n",
    "\n",
    "def find_node2(node,dic,upper_item):\n",
    "    node_list=[]\n",
    "    for item in dic.keys():\n",
    "        if str(node) in str(item) and upper_item not in str(item):\n",
    "            node_list.append(event_dict[item])\n",
    "    return node_list\n",
    "\n",
    "def find_node3(node,dic,upper_item):\n",
    "    node_list=[]\n",
    "    for item in dic.keys():\n",
    "        if str(node) in str(item) and upper_item in str(item):\n",
    "            node_list.append(event_dict[item])\n",
    "    return node_list\n",
    "\n",
    "####not the initial layer \n",
    "###############动力端   \n",
    "for item in split_T_F(P1):\n",
    "    #origin_node=event_dict[item]\n",
    "    node_list1=find_node2(item,event_dict,'动力端故障')####当前层\n",
    "    node_list2=find_node3(item,event_dict,'动力端故障')####下一层\n",
    "    for item2 in node_list1:\n",
    "        for item3 in node_list2:\n",
    "            edge_list.append((item2,item3))\n",
    "\n",
    "for item in split_T_F(P3):\n",
    "    #origin_node=event_dict[item]\n",
    "    node_list1=find_node2(item,event_dict,'动力端故障')####当前层\n",
    "    node_list2=find_node3(item,event_dict,'动力端故障')####下一层\n",
    "    for item2 in node_list1:\n",
    "        for item3 in node_list2:\n",
    "            edge_list.append((item2,item3))\n",
    "            \n",
    "for item in split_T_F(P5):\n",
    "    #origin_node=event_dict[item]\n",
    "    node_list1=find_node2(item,event_dict,'动力端故障')####当前层\n",
    "    node_list2=find_node3(item,event_dict,'动力端故障')####下一层\n",
    "    for item2 in node_list1:\n",
    "        for item3 in node_list2:\n",
    "            edge_list.append((item2,item3))\n",
    "            \n",
    "###############液力端\n",
    "for item in split_T_F(X8):\n",
    "    #origin_node=event_dict[item]\n",
    "    node_list1=find_node2(item,event_dict,'液力端故障')####当前层\n",
    "    node_list2=find_node3(item,event_dict,'液力端故障')####下一层\n",
    "    for item2 in node_list1:\n",
    "        for item3 in node_list2:\n",
    "            edge_list.append((item2,item3))\n",
    "\n",
    "for item in split_T_F(X9):\n",
    "    #origin_node=event_dict[item]\n",
    "    node_list1=find_node2(item,event_dict,'液力端故障')####当前层\n",
    "    node_list2=find_node3(item,event_dict,'液力端故障')####下一层\n",
    "    for item2 in node_list1:\n",
    "        for item3 in node_list2:\n",
    "            edge_list.append((item2,item3))\n",
    "            \n",
    "for item in split_T_F(X11):\n",
    "    #origin_node=event_dict[item]\n",
    "    node_list1=find_node2(item,event_dict,'液力端故障')####当前层\n",
    "    node_list2=find_node3(item,event_dict,'液力端故障')####下一层\n",
    "    for item2 in node_list1:\n",
    "        for item3 in node_list2:\n",
    "            edge_list.append((item2,item3))"
   ]
  },
  {
   "cell_type": "code",
   "execution_count": 9,
   "id": "cae954c5",
   "metadata": {},
   "outputs": [],
   "source": [
    "####液力端和动力端相连\n",
    "yeli_node=find_node2('液力端故障',event_dict,'  ')\n",
    "dongli_node=find_node2('动力端故障',event_dict,'  ')\n",
    "for item1 in yeli_node:\n",
    "    for item2 in dongli_node:\n",
    "        edge_list.append((item1,item2))"
   ]
  },
  {
   "cell_type": "code",
   "execution_count": 22,
   "id": "d03a6bf6",
   "metadata": {},
   "outputs": [],
   "source": [
    "import pickle\n",
    "import networkx as nx\n",
    "import torch\n",
    "from gensim.models import Word2Vec\n",
    "from ge.walker import RandomWalker\n",
    "from scipy.spatial import distance\n",
    "f_save = open('fault_event3.pkl', 'wb')\n",
    "pickle.dump(event_dict, f_save)\n",
    "f_save.close()"
   ]
  },
  {
   "cell_type": "code",
   "execution_count": 11,
   "id": "fdb8019d",
   "metadata": {},
   "outputs": [],
   "source": [
    "####适合单边情况\n",
    "edge_list2=[]\n",
    "for line in edge_list:\n",
    "    edge_list2.append([line[0],1,line[1]])"
   ]
  },
  {
   "cell_type": "code",
   "execution_count": 12,
   "id": "9da81861",
   "metadata": {},
   "outputs": [],
   "source": [
    "with open(\"event_edge_list3.txt\", 'w') as f:\n",
    "    for i in edge_list:\n",
    "        f.write(str(i)[1:-1]+'\\n')"
   ]
  },
  {
   "cell_type": "code",
   "execution_count": 15,
   "id": "5e075a49",
   "metadata": {},
   "outputs": [],
   "source": [
    "G=nx.read_edgelist('event_edge_list3.txt',\n",
    "                         create_using = nx.DiGraph(), nodetype = None, data = [('weight', int)])"
   ]
  },
  {
   "cell_type": "code",
   "execution_count": 18,
   "id": "aa6eed99",
   "metadata": {},
   "outputs": [],
   "source": [
    "emb_v2=torch.load(\"wv_total.pt\")####pre trained word embedding"
   ]
  },
  {
   "cell_type": "code",
   "execution_count": 20,
   "id": "9b56ef2b",
   "metadata": {},
   "outputs": [],
   "source": [
    "#target_0=event_dict['动力端故障: True']\n",
    "#target_1=event_dict['轴承游隙变大: True']\n",
    "def reciprocal(result,root_cause):\n",
    "    relevant_node=find_node(root_cause,event_dict)\n",
    "    #relevant_node.remove(event_dict[root_cause])\n",
    "    relevant_node2=find_node(result,event_dict)\n",
    "    dst_sum=0\n",
    "    for item in relevant_node:\n",
    "        node_name1=get_key(event_dict, item)[0]\n",
    "        for item2 in relevant_node2:\n",
    "            node_name2=get_key(event_dict, item2)[0]\n",
    "            if len(set(node_name1)&set(node_name1))>0:\n",
    "                #key1=str(item)+','\n",
    "                #key2=str(item2)+','\n",
    "                key1=int(item)\n",
    "                key2=int(item2)\n",
    "                #print(key1)\n",
    "                #print(key2)\n",
    "                try:\n",
    "                    #value=1/distance.euclidean(embeddings[key1], embeddings[key2])\n",
    "                    value=1/(distance.euclidean(emb_v2[key1], emb_v2[key2])+0.000001)\n",
    "                except:\n",
    "                    key2=str(item2)+''\n",
    "                    value=1/distance.euclidean(emb_v2[key1], emb_v2[key2])\n",
    "                dst_sum+=value\n",
    "    return dst_sum\n",
    "    \n",
    "#####if more than one evidence    \n",
    "def inference(result,evidence):\n",
    "    if len(evidence)==1:\n",
    "        return  reciprocal(result,evidence[0])\n",
    "    elif len(evidence)>1:\n",
    "        sum_evidence=0\n",
    "        for item in evidence:\n",
    "            sum_evidence+=reciprocal(result,item)\n",
    "        return sum_evidence\n",
    "    \n",
    "def prob(result,root,other_value):\n",
    "    item1=reciprocal(result,root)\n",
    "    item2=reciprocal(result,other_value)\n",
    "    return item1/(item1+item2)"
   ]
  },
  {
   "cell_type": "code",
   "execution_count": 23,
   "id": "008dcf1b",
   "metadata": {},
   "outputs": [
    {
     "data": {
      "text/plain": [
       "205.19831743651102"
      ]
     },
     "execution_count": 23,
     "metadata": {},
     "output_type": "execute_result"
    }
   ],
   "source": [
    "reciprocal('动力端故障:True','十字头有拉痕或磨损:False')"
   ]
  },
  {
   "cell_type": "code",
   "execution_count": 24,
   "id": "71e542d0",
   "metadata": {},
   "outputs": [
    {
     "data": {
      "text/plain": [
       "213.60116797451278"
      ]
     },
     "execution_count": 24,
     "metadata": {},
     "output_type": "execute_result"
    }
   ],
   "source": [
    "reciprocal('动力端故障:False','轴承游隙过大:False')"
   ]
  },
  {
   "cell_type": "code",
   "execution_count": 25,
   "id": "74d2b852",
   "metadata": {},
   "outputs": [
    {
     "data": {
      "text/plain": [
       "413.58102195220584"
      ]
     },
     "execution_count": 25,
     "metadata": {},
     "output_type": "execute_result"
    }
   ],
   "source": [
    "#####多个evidence\n",
    "inference('动力端故障:True',['轴承游隙过大:False','十字头有拉痕或磨损:True'])"
   ]
  },
  {
   "cell_type": "markdown",
   "id": "6f4cc883",
   "metadata": {},
   "source": [
    "# Example: crosshead wear to power end fault"
   ]
  },
  {
   "cell_type": "code",
   "execution_count": 26,
   "id": "529687e4",
   "metadata": {},
   "outputs": [
    {
     "data": {
      "text/plain": [
       "0.5158144734449222"
      ]
     },
     "execution_count": 26,
     "metadata": {},
     "output_type": "execute_result"
    }
   ],
   "source": [
    "reciprocal('动力端故障:True','十字头有拉痕或磨损:True')/(reciprocal('动力端故障:True','十字头有拉痕或磨损:True')+reciprocal('动力端故障:True','十字头有拉痕或磨损:False'))"
   ]
  }
 ],
 "metadata": {
  "kernelspec": {
   "display_name": "Python 3 (ipykernel)",
   "language": "python",
   "name": "python3"
  },
  "language_info": {
   "codemirror_mode": {
    "name": "ipython",
    "version": 3
   },
   "file_extension": ".py",
   "mimetype": "text/x-python",
   "name": "python",
   "nbconvert_exporter": "python",
   "pygments_lexer": "ipython3",
   "version": "3.8.16"
  }
 },
 "nbformat": 4,
 "nbformat_minor": 5
}
